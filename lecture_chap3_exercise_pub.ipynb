{
  "nbformat": 4,
  "nbformat_minor": 0,
  "metadata": {
    "colab": {
      "name": "lecture_chap3_exercise_pub.ipynb",
      "version": "0.3.2",
      "provenance": [],
      "include_colab_link": true
    },
    "kernelspec": {
      "display_name": "Python 3",
      "language": "python",
      "name": "python3"
    }
  },
  "cells": [
    {
      "cell_type": "markdown",
      "metadata": {
        "id": "view-in-github",
        "colab_type": "text"
      },
      "source": [
        "[View in Colaboratory](https://colab.research.google.com/github/tatzya/hogehoge/blob/master/lecture_chap3_exercise_pub.ipynb)"
      ]
    },
    {
      "metadata": {
        "id": "gvQHMPTeqplP",
        "colab_type": "text"
      },
      "cell_type": "markdown",
      "source": [
        "# 第３回講義 演習"
      ]
    },
    {
      "metadata": {
        "id": "sPhoAFNcqplR",
        "colab_type": "text"
      },
      "cell_type": "markdown",
      "source": [
        "## 課題. k-Nearest Neighbors (k-NN) を使った手書き文字認識"
      ]
    },
    {
      "metadata": {
        "id": "EGEjYWaVqplR",
        "colab_type": "code",
        "colab": {}
      },
      "cell_type": "code",
      "source": [
        "%matplotlib inline\n",
        "\n",
        "from sklearn.utils import shuffle\n",
        "from sklearn.model_selection import train_test_split\n",
        "from sklearn.metrics import f1_score\n",
        "from sklearn.datasets import fetch_mldata\n",
        "\n",
        "import numpy as np\n",
        "import matplotlib.pyplot as plt"
      ],
      "execution_count": 0,
      "outputs": []
    },
    {
      "metadata": {
        "id": "Ax_N2XO7qplW",
        "colab_type": "text"
      },
      "cell_type": "markdown",
      "source": [
        "### 1. MNISTデータセットの読み込み"
      ]
    },
    {
      "metadata": {
        "id": "DppY_xr0qplX",
        "colab_type": "code",
        "colab": {}
      },
      "cell_type": "code",
      "source": [
        "!mkdir scikit_learn_data\n",
        "!mkdir scikit_learn_data/mldata\n",
        "!cd scikit_learn_data/mldata && wget -O \"mnist-original.mat\" \"https://github.com/irration/datasets/raw/master/mnist-original.mat\"\n",
        "\n",
        "mnist = fetch_mldata('MNIST original', data_home='./scikit_learn_data')\n",
        "mnist_X, mnist_y = shuffle(mnist.data, mnist.target, random_state=42)\n",
        "\n",
        "mnist_X = mnist_X / 255.0\n",
        "\n",
        "train_X, test_X, train_y, test_y = train_test_split(mnist_X, mnist_y,\n",
        "                                                    test_size=0.2,\n",
        "                                                    random_state=42)\n",
        "train_X, valid_X, train_y, valid_y = train_test_split(train_X, train_y,\n",
        "                                                      test_size=0.2,\n",
        "                                                      random_state=42)"
      ],
      "execution_count": 0,
      "outputs": []
    },
    {
      "metadata": {
        "id": "YmDlKyEhqpla",
        "colab_type": "text"
      },
      "cell_type": "markdown",
      "source": [
        "### 2. MNISTデータの可視化"
      ]
    },
    {
      "metadata": {
        "id": "EvKr8r4Iqplb",
        "colab_type": "code",
        "colab": {}
      },
      "cell_type": "code",
      "source": [
        "fig = plt.figure(figsize=(9, 9))\n",
        "fig.subplots_adjust(left=0, right=1, bottom=0,\n",
        "                    top=0.5, hspace=0.05, wspace=0.05)\n",
        "\n",
        "for i in range(81):\n",
        "    ax = fig.add_subplot(9, 9, i + 1, xticks=[], yticks=[])\n",
        "    ax.imshow(train_X[i].reshape((28, 28)), cmap='gray')"
      ],
      "execution_count": 0,
      "outputs": []
    },
    {
      "metadata": {
        "id": "nRzpS0pOqple",
        "colab_type": "text"
      },
      "cell_type": "markdown",
      "source": [
        "### 3. 精度評価について [[リンク](http://ibisforest.org/index.php?F%E5%80%A4)]"
      ]
    },
    {
      "metadata": {
        "id": "Max5Z6sgqple",
        "colab_type": "text"
      },
      "cell_type": "markdown",
      "source": [
        "||**実際が正例**|**実際が負例**|\n",
        "|:---------:|:---------:|:---------:|\n",
        "|**予測が正例**|True Positive (TP)|False Positive (FP)|\n",
        "|**予測が負例**|False Negative (FN)|True Negative (TN)|"
      ]
    },
    {
      "metadata": {
        "id": "3S0j_89gqplg",
        "colab_type": "text"
      },
      "cell_type": "markdown",
      "source": [
        "- 正解率 (Accuracy): 全データのうち, 予測が当たったものの割合\n",
        "    $$ \\text{Accuracy} = \\frac{\\text{TP} + \\text{TN}}{\\text{TP} + \\text{FP} + \\text{FN} + \\text{TN}} $$\n",
        "- 適合率 (Precision): 正と予測したデータのうち, 実際に正であるものの割合\n",
        "    $$ \\text{Precision} = \\frac{\\text{TP}}{\\text{TP} + \\text{FP}} $$\n",
        "- 再現率 (Recall): 実際に正であるもののうち, 正であると予測されたものの割合\n",
        "    $$ \\text{Recall} = \\frac{\\text{TP}}{\\text{TP} + \\text{FN}} $$\n",
        "- F値 (F-measure): 精度と再現率の調和平均\n",
        "    $$ \\text{F-measure} = \\frac{2 \\cdot \\text{Precision} \\cdot \\text{Recall}}{\\text{Precision} + \\text{Recall}} $$"
      ]
    },
    {
      "metadata": {
        "id": "B-XtSx5uqplh",
        "colab_type": "text"
      },
      "cell_type": "markdown",
      "source": [
        "### 4. 距離関数について"
      ]
    },
    {
      "metadata": {
        "id": "NJZh5qc7qpli",
        "colab_type": "text"
      },
      "cell_type": "markdown",
      "source": [
        "#### Cosine類似度"
      ]
    },
    {
      "metadata": {
        "id": "LKluyproqplj",
        "colab_type": "text"
      },
      "cell_type": "markdown",
      "source": [
        "$$ cos \\left({\\bf a},{\\bf b}\\right) = \\frac{{\\bf a}\\cdot{\\bf b}}{\\|{\\bf a}\\| \\|{\\bf b}\\|} = \\frac{\\sum^{n}_{i} a_i b_i}{\\sqrt{\\sum^{n}_{i} a^2_i} \\sqrt{\\sum^{n}_{i} b^2_i}} $$"
      ]
    },
    {
      "metadata": {
        "id": "dbb3YbG3qplk",
        "colab_type": "code",
        "colab": {}
      },
      "cell_type": "code",
      "source": [
        "# WRITE ME!"
      ],
      "execution_count": 0,
      "outputs": []
    }
  ]
}